{
  "nbformat": 4,
  "nbformat_minor": 0,
  "metadata": {
    "colab": {
      "provenance": [],
      "authorship_tag": "ABX9TyPVfv/wW5xnmWjuESeoPkLN",
      "include_colab_link": true
    },
    "kernelspec": {
      "name": "python3",
      "display_name": "Python 3"
    },
    "language_info": {
      "name": "python"
    }
  },
  "cells": [
    {
      "cell_type": "markdown",
      "metadata": {
        "id": "view-in-github",
        "colab_type": "text"
      },
      "source": [
        "<a href=\"https://colab.research.google.com/github/kavyaagarwal178/cosine_similarity_miniproject/blob/main/cosine_similarity.ipynb\" target=\"_parent\"><img src=\"https://colab.research.google.com/assets/colab-badge.svg\" alt=\"Open In Colab\"/></a>"
      ]
    },
    {
      "cell_type": "code",
      "execution_count": 1,
      "metadata": {
        "colab": {
          "base_uri": "https://localhost:8080/"
        },
        "id": "KSwQKGx8a6NM",
        "outputId": "2b51860a-5a0a-4d81-b668-98a943425cfe"
      },
      "outputs": [
        {
          "output_type": "stream",
          "name": "stdout",
          "text": [
            "A: [2 1 2 3 2 9]\n",
            "B: [3 4 2 4 5 5]\n",
            "Cosine Similarity: 0.8188504723485274\n"
          ]
        }
      ],
      "source": [
        "# import required libraries\n",
        "import numpy as np\n",
        "from numpy.linalg import norm\n",
        "\n",
        "# define two lists or array\n",
        "A = np.array([2,1,2,3,2,9])\n",
        "B = np.array([3,4,2,4,5,5])\n",
        "\n",
        "print(\"A:\", A)\n",
        "print(\"B:\", B)\n",
        "\n",
        "# compute cosine similarity\n",
        "cosine = np.dot(A,B)/(norm(A)*norm(B))\n",
        "print(\"Cosine Similarity:\", cosine)\n"
      ]
    }
  ]
}